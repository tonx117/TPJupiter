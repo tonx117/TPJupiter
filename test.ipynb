{
 "cells": [
  {
   "cell_type": "markdown",
   "metadata": {},
   "source": [
    "# Para la realizacion de los siguientes ejercicios se tuvo que crear un entoro virtual\n",
    "```python -m venv venv```\n",
    "1. para ingresar al entorno virtual se debe acceder a la terminal ejecutando lo siguiente:\n",
    "\n",
    "* Windows\n",
    "```.\\venv\\Scripts\\activate```\n",
    "\n",
    "* Mac\n",
    "```source .\\venv\\bin\\activate```\n",
    "* Linux\n",
    "    1. Navega al directorio donde esta ubicado el entorno virtual\n",
    "        ```cd venv```\n",
    "    2. Activa el entorno virtual\n",
    "        ```source bin/activate```\n",
    "* desactivar el entorno virtual:\n",
    "```deactivate```\n"
   ]
  },
  {
   "cell_type": "markdown",
   "metadata": {},
   "source": [
    "# Ejercicio Algoritmia 3"
   ]
  },
  {
   "cell_type": "markdown",
   "metadata": {},
   "source": [
    "### **Se define en este caso una lista que fue otorgada en el ejercicio**"
   ]
  },
  {
   "cell_type": "code",
   "execution_count": 17,
   "metadata": {},
   "outputs": [],
   "source": [
    "lista = [1, 2, 3, 4, 4, 5, 6, 6, 7]"
   ]
  },
  {
   "cell_type": "markdown",
   "metadata": {},
   "source": [
    "### **Se crea una funcion que toma la lista, luego se crea una variable list que recibe la lista sin repetidos en forma de objeto, y luego se imprime el resultado de la lista sin repetidos esto funciona ya que set se utiliza para representar una coleccion de elementos unicos**"
   ]
  },
  {
   "cell_type": "code",
   "execution_count": 18,
   "metadata": {},
   "outputs": [
    {
     "name": "stdout",
     "output_type": "stream",
     "text": [
      "[1, 2, 3, 4, 5, 6, 7]\n"
     ]
    }
   ],
   "source": [
    "def eliminar_duplicados (list):\n",
    "    list = list(set(lista))\n",
    "    print(list)\n",
    "eliminar_duplicados(list)"
   ]
  },
  {
   "cell_type": "markdown",
   "metadata": {},
   "source": [
    "---"
   ]
  },
  {
   "cell_type": "markdown",
   "metadata": {},
   "source": [
    "# Ejercicio 4 "
   ]
  },
  {
   "cell_type": "markdown",
   "metadata": {},
   "source": [
    "### **para este ejercicio se tuvo que instalar la libreria pandas para el manejo de datos**\\\n",
    "### ```pip install pandas```\\\n",
    "### **y luego realizar la importacion de esta**"
   ]
  },
  {
   "cell_type": "code",
   "execution_count": 20,
   "metadata": {},
   "outputs": [],
   "source": [
    "import pandas as pd"
   ]
  },
  {
   "cell_type": "markdown",
   "metadata": {},
   "source": [
    "### **En este segmento recibe un array de objetos con los datos de estudiantes y sus calificaciones en las distintas materias, luego se crea un data.frame con los datos que se obtuvieron utilizando pandas**"
   ]
  },
  {
   "cell_type": "code",
   "execution_count": null,
   "metadata": {},
   "outputs": [],
   "source": [
    "\n",
    "calificaciones = [\n",
    "    {\"nombre\": \"Juan\", \"matematicas\": 85, \"ciencias\": 90, \"historia\": 75},\n",
    "    {\"nombre\": \"María\", \"matematicas\": 70, \"ciencias\": 80, \"historia\": 85},\n",
    "    {\"nombre\": \"Pedro\", \"matematicas\": 95, \"ciencias\": 75, \"historia\": 90},\n",
    "    {\"nombre\": \"Ana\", \"matematicas\": 80, \"ciencias\": 85, \"historia\": 80},\n",
    "    {\"nombre\": \"Luis\", \"matematicas\": 75, \"ciencias\": 70, \"historia\": 95},\n",
    "    {\"nombre\": \"Sofía\", \"matematicas\": 90, \"ciencias\": 85, \"historia\": 75},\n",
    "    {\"nombre\": \"Carlos\", \"matematicas\": 85, \"ciencias\": 90, \"historia\": 80},\n",
    "    {\"nombre\": \"Elena\", \"matematicas\": 70, \"ciencias\": 75, \"historia\": 85},\n",
    "    {\"nombre\": \"Javier\", \"matematicas\": 80, \"ciencias\": 85, \"historia\": 90},\n",
    "    {\"nombre\": \"Laura\", \"matematicas\": 75, \"ciencias\": 70, \"historia\": 95},\n",
    "    {\"nombre\": \"Diego\", \"matematicas\": 90, \"ciencias\": 85, \"historia\": 75},\n",
    "    {\"nombre\": \"Paula\", \"matematicas\": 85, \"ciencias\": 90, \"historia\": 80},\n",
    "    {\"nombre\": \"Carmen\", \"matematicas\": 70, \"ciencias\": 75, \"historia\": 85},\n",
    "]\n",
    "df = pd.DataFrame(calificaciones)\n",
    "print(df)"
   ]
  },
  {
   "cell_type": "markdown",
   "metadata": {},
   "source": [
    "### **Se calcula el promedio de cada materia y luego se imprime su resultado**\n",
    "#### Promedio matematicas"
   ]
  },
  {
   "cell_type": "code",
   "execution_count": null,
   "metadata": {},
   "outputs": [],
   "source": [
    "cantidadMatematica = df['matematicas'].value_counts().sum()\n",
    "promedioMatematica = df['matematicas'].sum()/cantidadMatematica\n",
    "print(\"\\nPromedio matematicas: \", promedioMatematica)"
   ]
  },
  {
   "cell_type": "markdown",
   "metadata": {},
   "source": [
    "#### Promedio Ciencias"
   ]
  },
  {
   "cell_type": "code",
   "execution_count": null,
   "metadata": {},
   "outputs": [],
   "source": [
    "cantidadCiencias = df['ciencias'].value_counts().sum()\n",
    "promedioCiencias = df['ciencias'].sum()/cantidadCiencias\n",
    "print(\"\\nPromedio ciencias: \",promedioCiencias)"
   ]
  },
  {
   "cell_type": "markdown",
   "metadata": {},
   "source": [
    "#### Promedio historia"
   ]
  },
  {
   "cell_type": "code",
   "execution_count": null,
   "metadata": {},
   "outputs": [],
   "source": [
    "cantidadHistoria = df['historia'].value_counts().sum()\n",
    "promedioHistoria = df['historia'].sum()/cantidadHistoria\n",
    "print(\"\\nPromedio historia: \",promedioHistoria)"
   ]
  },
  {
   "cell_type": "markdown",
   "metadata": {},
   "source": [
    "### **Se encuentra a los estudiantes con las calificaciones mas altas de cada asignatura**\n",
    "\n",
    "#### Mejor calificacion de matematicas"
   ]
  },
  {
   "cell_type": "code",
   "execution_count": null,
   "metadata": {},
   "outputs": [],
   "source": [
    "mejoresMatematicas = df.loc[df['matematicas'].idxmax()]\n",
    "print(\"\\nMejor calificación en Matemáticas:\",mejoresMatematicas)"
   ]
  },
  {
   "cell_type": "markdown",
   "metadata": {},
   "source": [
    "#### Mejor calificacion de ciencias"
   ]
  },
  {
   "cell_type": "code",
   "execution_count": null,
   "metadata": {},
   "outputs": [],
   "source": [
    "mejoresCiencias = df.loc[df['ciencias'].idxmax()]\n",
    "print(\"\\nMejor calificación en Ciencias:\",mejoresCiencias)"
   ]
  },
  {
   "cell_type": "markdown",
   "metadata": {},
   "source": [
    "#### Mejor calificacion de historia"
   ]
  },
  {
   "cell_type": "code",
   "execution_count": null,
   "metadata": {},
   "outputs": [],
   "source": [
    "mejoresHistoria = df.loc[df['historia'].idxmax()]\n",
    "print(\"\\nMejor calificación en Historia:\",mejoresHistoria)"
   ]
  },
  {
   "cell_type": "markdown",
   "metadata": {},
   "source": [
    "### **se calcula el porcentaje de estudiantes que aprobaron cada asignatura y luego se imprime su resultado**"
   ]
  },
  {
   "cell_type": "markdown",
   "metadata": {},
   "source": [
    "#### Porcentaje de aprobados matematicas"
   ]
  },
  {
   "cell_type": "code",
   "execution_count": null,
   "metadata": {},
   "outputs": [],
   "source": [
    "\n",
    "aprobadosMatematicas = df[df['matematicas'] >= 60].shape[0] / df.shape[0] * 100\n",
    "print(\"\\nPorcentaje de estudiantes que aprobaron matematicas:\", aprobadosMatematicas,\"%\")"
   ]
  },
  {
   "cell_type": "markdown",
   "metadata": {},
   "source": [
    "#### Porcentaje de aprobados ciencias"
   ]
  },
  {
   "cell_type": "code",
   "execution_count": null,
   "metadata": {},
   "outputs": [],
   "source": [
    "aprobadosCiencias = df[df['ciencias'] >= 60].shape[0] / df.shape[0] * 100\n",
    "print(\"\\nPorcentaje de estudiantes que aprobaron ciencias:\", aprobadosCiencias,\"%\")"
   ]
  },
  {
   "cell_type": "markdown",
   "metadata": {},
   "source": [
    "#### Porcentaje de aprobados historia"
   ]
  },
  {
   "cell_type": "code",
   "execution_count": null,
   "metadata": {},
   "outputs": [],
   "source": [
    "aprobadosHistoria = df[df['historia'] >= 60].shape[0] / df.shape[0] * 100\n",
    "print(\"\\nPorcentaje de estudiantes que aprobaron historia:\", aprobadosHistoria,\"%\")"
   ]
  },
  {
   "cell_type": "markdown",
   "metadata": {},
   "source": [
    "### **se crea otro dataframe donde se visualizan 2 columnas una de nombre del estudiante y otra del promedio de notas de las materias**"
   ]
  },
  {
   "cell_type": "code",
   "execution_count": null,
   "metadata": {},
   "outputs": [],
   "source": [
    "df['promedio'] = df[['matematicas', 'ciencias', 'historia']].mean(axis=1)\n",
    "df_promedio = df[['nombre', 'promedio']]\n",
    "print(\"\\n\",df_promedio)"
   ]
  },
  {
   "cell_type": "markdown",
   "metadata": {},
   "source": [
    "---"
   ]
  },
  {
   "cell_type": "markdown",
   "metadata": {},
   "source": [
    "# Ejercicio 5"
   ]
  },
  {
   "cell_type": "markdown",
   "metadata": {},
   "source": [
    "### **Para este ejecicio se requirio la instalacion de la libreria Matplotlib para realizar el grafico del ejecicio anterior**\n",
    "```pip install matplotlib```\n",
    "### **Y luego realizar la importacion de esta**"
   ]
  },
  {
   "cell_type": "code",
   "execution_count": 22,
   "metadata": {},
   "outputs": [],
   "source": [
    "import matplotlib.pyplot as plt"
   ]
  },
  {
   "cell_type": "markdown",
   "metadata": {},
   "source": [
    "#### se crea el histograma del promedio de notas"
   ]
  },
  {
   "cell_type": "code",
   "execution_count": null,
   "metadata": {},
   "outputs": [],
   "source": [
    "plt.hist(df_promedio['promedio'], bins=10, color='skyblue', edgecolor='black')"
   ]
  },
  {
   "cell_type": "markdown",
   "metadata": {},
   "source": [
    "#### se agrega etiquetas y títulos"
   ]
  },
  {
   "cell_type": "code",
   "execution_count": null,
   "metadata": {},
   "outputs": [],
   "source": [
    "plt.xlabel('Promedio de notas')\n",
    "plt.ylabel('estudiantes')\n",
    "plt.title('Histograma del promedio de notas de los estudiantes')"
   ]
  },
  {
   "cell_type": "markdown",
   "metadata": {},
   "source": [
    "#### Muestra el histograma"
   ]
  },
  {
   "cell_type": "code",
   "execution_count": null,
   "metadata": {},
   "outputs": [],
   "source": [
    "plt.show()"
   ]
  }
 ],
 "metadata": {
  "kernelspec": {
   "display_name": "venv",
   "language": "python",
   "name": "python3"
  },
  "language_info": {
   "codemirror_mode": {
    "name": "ipython",
    "version": 3
   },
   "file_extension": ".py",
   "mimetype": "text/x-python",
   "name": "python",
   "nbconvert_exporter": "python",
   "pygments_lexer": "ipython3",
   "version": "3.11.0"
  }
 },
 "nbformat": 4,
 "nbformat_minor": 2
}
